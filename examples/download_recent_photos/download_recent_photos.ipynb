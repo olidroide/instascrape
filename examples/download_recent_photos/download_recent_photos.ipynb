{
 "cells": [
  {
   "cell_type": "markdown",
   "metadata": {},
   "source": [
    "# Downloading recent photos from a profile\n",
    "\n",
    "In this example, I'm going to show you how you can quickly download a user's most recently posted photos to your computer using `instascrape`!\n",
    "\n",
    "To start, we're going to instantiate an `instascrape.Profile` object with a given username (for this example, we'll use my profile [@chris_greening](https://www.instagram.com/chris_greening/)) and load the user's data."
   ]
  },
  {
   "cell_type": "code",
   "execution_count": 5,
   "metadata": {},
   "outputs": [],
   "source": [
    "import instascrape\n",
    "chris = instascrape.Profile('chris_greening')\n",
    "chris.scrape()"
   ]
  },
  {
   "cell_type": "markdown",
   "metadata": {},
   "source": [
    "Currently, `Post.download` only supports posts of photos so we will filter posts that have a video as follows:"
   ]
  },
  {
   "cell_type": "code",
   "execution_count": null,
   "metadata": {},
   "outputs": [],
   "source": [
    "chris_photos = [post for post in chris.get_recent_posts() if not post.is_video]"
   ]
  },
  {
   "cell_type": "markdown",
   "metadata": {},
   "source": [
    "And now for the main event! We're ready to download the images to our computer now. All we have to do is pass `Post.download` a filepath and it will handle the rest, downloading the image to that filepath. In this case, we will create a filename `fname` that will use every posts upload_date as its name."
   ]
  },
  {
   "cell_type": "code",
   "execution_count": 7,
   "metadata": {},
   "outputs": [],
   "source": [
    "for post in chris_photos: \n",
    "    fname = post.upload_date.strftime(\"%Y-%m-%d %Hh%Mm\")\n",
    "    post.download(f\"{fname}.png\")   "
   ]
  },
  {
   "cell_type": "markdown",
   "metadata": {},
   "source": [
    "That's it! We have now downloaded all of the recent photos from @chris_greening to our computer"
   ]
  }
 ],
 "metadata": {
  "kernelspec": {
   "display_name": "Python 3.7.4 64-bit ('base': conda)",
   "language": "python",
   "name": "python37464bitbaseconda5a7fa83a9e6c4e43a4941e0b76e31b98"
  },
  "language_info": {
   "codemirror_mode": {
    "name": "ipython",
    "version": 3
   },
   "file_extension": ".py",
   "mimetype": "text/x-python",
   "name": "python",
   "nbconvert_exporter": "python",
   "pygments_lexer": "ipython3",
   "version": "3.7.4"
  }
 },
 "nbformat": 4,
 "nbformat_minor": 2
}
