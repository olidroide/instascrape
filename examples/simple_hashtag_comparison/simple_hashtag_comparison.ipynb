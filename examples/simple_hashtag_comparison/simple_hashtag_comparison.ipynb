{
 "cells": [
  {
   "cell_type": "markdown",
   "metadata": {},
   "source": [
    "# Hashtag Growth Tracker \n",
    "The following is a simple example that uses instascrape to track the growth of two hashtag's over a given period and comparing their growth"
   ]
  },
  {
   "cell_type": "code",
   "execution_count": 1,
   "metadata": {},
   "outputs": [],
   "source": [
    "import time\n",
    "import datetime\n",
    "import sys \n",
    "import os \n",
    "\n",
    "import numpy as np\n",
    "import matplotlib.pyplot as plt \n",
    "import pandas as pd \n",
    "\n",
    "sys.path.insert(0, os.path.abspath('..'))\n",
    "from instascrape import Hashtag"
   ]
  },
  {
   "cell_type": "markdown",
   "metadata": {},
   "source": [
    "We will start by running a loop and scraping data at random intervals until the predefined timeframe has elapsed."
   ]
  },
  {
   "cell_type": "code",
   "execution_count": 2,
   "metadata": {},
   "outputs": [],
   "source": [
    "#Metadata  \n",
    "TOTAL_TIME = 60           #Total time \n",
    "WAIT_TIME = 5             #Mean wait time for random normal distribution\n",
    "photography = Hashtag('photography')  \n",
    "instagram = Hashtag('instagram')\n",
    " \n",
    "#Create a list of tuples containing data scraped at random \n",
    "# intervals during the time period \n",
    "current_time = datetime.datetime.now()\n",
    "end_time = current_time + datetime.timedelta(seconds=TOTAL_TIME)\n",
    "photography_data = []\n",
    "instagram_data = []\n",
    "while current_time < end_time:\n",
    "    #Wait for  normally randomized amount of time \n",
    "    rand_time = abs(np.random.normal(WAIT_TIME, 1.5))\n",
    "    time.sleep(WAIT_TIME)\n",
    "    \n",
    "    #Scrape data and append to respective lists  \n",
    "    photography.scrape()\n",
    "    photography_data.append((datetime.datetime.now(), photography.amount_of_posts))\n",
    "    instagram.scrape()\n",
    "    instagram_data.append((datetime.datetime.now(), instagram.amount_of_posts))\n",
    "    \n",
    "    #Increment time \n",
    "    current_time = datetime.datetime.now()"
   ]
  },
  {
   "cell_type": "markdown",
   "metadata": {},
   "source": [
    "Now that the data is scraped, we can create some DataFrame's to make manipulation and working with the data easier. "
   ]
  },
  {
   "cell_type": "code",
   "execution_count": 3,
   "metadata": {},
   "outputs": [],
   "source": [
    "columns = ['time', 'posts']\n",
    "photo_df = pd.DataFrame(photography_data, columns=columns)\n",
    "insta_df = pd.DataFrame(instagram_data, columns=columns)"
   ]
  },
  {
   "cell_type": "markdown",
   "metadata": {},
   "source": [
    "Let's prepare the datasets so that we can plot and see how they're growing. We want them to both start at 0 so we'll subtract all values in the dataframe's by their first value"
   ]
  },
  {
   "cell_type": "code",
   "execution_count": 4,
   "metadata": {},
   "outputs": [],
   "source": [
    "photo_df['posts'] -= photo_df['posts'].iloc[0]\n",
    "insta_df['posts'] -= insta_df['posts'].iloc[0]"
   ]
  },
  {
   "cell_type": "code",
   "execution_count": 6,
   "metadata": {},
   "outputs": [
    {
     "data": {
      "image/png": "[encoded data removed]",
      "text/plain": [
       "<Figure size 432x288 with 1 Axes>"
      ]
     },
     "metadata": {
      "needs_background": "light"
     },
     "output_type": "display_data"
    }
   ],
   "source": [
    "from pandas.plotting import register_matplotlib_converters\n",
    "plt.plot(photo_df['time'], photo_df['posts'], label='#photography')\n",
    "plt.plot(insta_df['time'], insta_df['posts'], label='#instagram')\n",
    "plt.xlabel('Time')\n",
    "plt.ylabel('Posts')\n",
    "plt.title('Time vs. Posts')\n",
    "plt.legend(loc=\"upper left\")\n",
    "plt.show()"
   ]
  },
  {
   "cell_type": "markdown",
   "metadata": {},
   "source": [
    "And that's it! This is just a super small sampling of data and a single usecase of instascrape.Hashtag. If we wanted, we could focus on one hashtag and run a program for 24 hours straight to find the best time of day to post to that hashtag. We could compare 100 different hashtags and see which one's are growing the fastest. There are a ton of possibilities and instascrape.Hashtag is just a simple tool for abstracting out the actual scraping of the data so that you can focus on your algorithms and not on sifting through the HTML and JSON data!"
   ]
  }
 ],
 "metadata": {
  "kernelspec": {
   "display_name": "Python 3.7.4 64-bit ('Chris': virtualenv)",
   "language": "python",
   "name": "python37464bitchrisvirtualenv7257ff887f2f42e49b4f10d8b8979f3e"
  },
  "language_info": {
   "codemirror_mode": {
    "name": "ipython",
    "version": 3
   },
   "file_extension": ".py",
   "mimetype": "text/x-python",
   "name": "python",
   "nbconvert_exporter": "python",
   "pygments_lexer": "ipython3",
   "version": "3.7.4"
  }
 },
 "nbformat": 4,
 "nbformat_minor": 2
}
